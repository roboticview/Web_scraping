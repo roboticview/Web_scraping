{
 "cells": [
  {
   "cell_type": "code",
   "execution_count": 2,
   "id": "d669ab0e",
   "metadata": {},
   "outputs": [],
   "source": [
    "import requests\n",
    "from bs4 import BeautifulSoup"
   ]
  },
  {
   "cell_type": "code",
   "execution_count": 3,
   "id": "851b7796",
   "metadata": {},
   "outputs": [],
   "source": [
    "url = \"http://shakespeare.mit.edu/lll/full.html\""
   ]
  },
  {
   "cell_type": "code",
   "execution_count": 5,
   "id": "45947dc6",
   "metadata": {},
   "outputs": [],
   "source": [
    "response = requests.get(url)"
   ]
  },
  {
   "cell_type": "code",
   "execution_count": 9,
   "id": "138e5dd5",
   "metadata": {},
   "outputs": [],
   "source": [
    "bsobj = BeautifulSoup(response.content, \"html.parser\")"
   ]
  },
  {
   "cell_type": "code",
   "execution_count": 11,
   "id": "cd97e41c",
   "metadata": {},
   "outputs": [],
   "source": [
    "h3_list = bsobj.find_all(\"h3\")"
   ]
  },
  {
   "cell_type": "code",
   "execution_count": 14,
   "id": "77b01919",
   "metadata": {},
   "outputs": [],
   "source": [
    "clean_list = []\n",
    "\n",
    "for i in h3_list:\n",
    "    clean_list.append(i.get_text())"
   ]
  },
  {
   "cell_type": "code",
   "execution_count": 17,
   "id": "09d69cd8",
   "metadata": {},
   "outputs": [],
   "source": [
    "clean_list =  [i.get_text() for i in h3_list]\n"
   ]
  },
  {
   "cell_type": "code",
   "execution_count": 18,
   "id": "1170b5c0",
   "metadata": {},
   "outputs": [],
   "source": [
    "phrase = bsobj.find(\"a\", {\"name\":\"1.1.9\"})"
   ]
  },
  {
   "cell_type": "code",
   "execution_count": 19,
   "id": "6515c588",
   "metadata": {},
   "outputs": [
    {
     "data": {
      "text/plain": [
       "'That war against your own affections'"
      ]
     },
     "execution_count": 19,
     "metadata": {},
     "output_type": "execute_result"
    }
   ],
   "source": [
    "phrase.get_text()"
   ]
  },
  {
   "cell_type": "code",
   "execution_count": 20,
   "id": "0a44692a",
   "metadata": {},
   "outputs": [
    {
     "data": {
      "text/plain": [
       "'That his own hand may strike his honour down'"
      ]
     },
     "execution_count": 20,
     "metadata": {},
     "output_type": "execute_result"
    }
   ],
   "source": [
    "\"That his own hand may strike his honour down\"\n",
    "phrase_2 = bsobj.find(\"a\", {\"name\":\"1.1.20\"})\n",
    "phrase_2.get_text()"
   ]
  },
  {
   "cell_type": "code",
   "execution_count": 23,
   "id": "d20d5e32",
   "metadata": {},
   "outputs": [
    {
     "data": {
      "text/plain": [
       "54"
      ]
     },
     "execution_count": 23,
     "metadata": {},
     "output_type": "execute_result"
    }
   ],
   "source": [
    "# How many time DUMAIN char appears in the play\n",
    "len(bsobj.find_all(string=\"DUMAIN\"))"
   ]
  },
  {
   "cell_type": "code",
   "execution_count": null,
   "id": "1d769b76",
   "metadata": {},
   "outputs": [],
   "source": []
  }
 ],
 "metadata": {
  "kernelspec": {
   "display_name": "Python 3 (ipykernel)",
   "language": "python",
   "name": "python3"
  },
  "language_info": {
   "codemirror_mode": {
    "name": "ipython",
    "version": 3
   },
   "file_extension": ".py",
   "mimetype": "text/x-python",
   "name": "python",
   "nbconvert_exporter": "python",
   "pygments_lexer": "ipython3",
   "version": "3.10.9"
  }
 },
 "nbformat": 4,
 "nbformat_minor": 5
}
