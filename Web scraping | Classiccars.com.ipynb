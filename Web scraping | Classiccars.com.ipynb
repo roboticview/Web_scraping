{
 "cells": [
  {
   "cell_type": "code",
   "execution_count": null,
   "id": "1a1e8f21",
   "metadata": {},
   "outputs": [],
   "source": [
    "import requests\n",
    "from bs4 import BeautifulSoup\n",
    "import pandas as pd\n",
    "import os"
   ]
  },
  {
   "cell_type": "code",
   "execution_count": null,
   "id": "e73d21ec",
   "metadata": {},
   "outputs": [],
   "source": [
    "url = \"https://classiccars.com/\"\n",
    "\n",
    "def fetch_url(url, title, folder_name):\n",
    "    _, extension = os.path.splitext(url)\n",
    "    file_name = f\"{title}{extension}\"\n",
    "    \n",
    "    file_path = os.path.join(folder_name, file_name)\n",
    "    \n",
    "    response = requests.get(url)\n",
    "   \n",
    "    with open(file_path, \"wb\") as image_file:\n",
    "        image_file.write(response.content)\n",
    "    return image_file, file_name\n",
    "\n",
    "response = requests.get(url)\n",
    "bsobj = BeautifulSoup(response.content, \"html.parser\")\n",
    "\n",
    "cards = bsobj.find_all(\"div\", {\"class\":\"h-card\"})\n",
    "\n",
    "data = []\n",
    "for card in cards:\n",
    "    try:\n",
    "        title = card.find(\"div\", {\"class\":\"h-title\"}).get_text()\n",
    "    except:\n",
    "        title = \"No title\"\n",
    "    try:\n",
    "        price = card.find(\"b\")\n",
    "        price = price.get_text().split()[0]\n",
    "    except:\n",
    "        price = \"\"\n",
    "    try:\n",
    "        image_url = card.find(\"img\")[\"data-src\"]\n",
    "        print(image_url, title)\n",
    "        result = fetch_url(image_url, title.replace(\" \",\"-\"), \"car_images\")\n",
    "        print(result)\n",
    "    except:\n",
    "        result = \"No Image\"\n",
    "    if len(price) > 3:\n",
    "        data.append((title, price , result[1]))"
   ]
  },
  {
   "cell_type": "code",
   "execution_count": null,
   "id": "f5cda4de",
   "metadata": {},
   "outputs": [],
   "source": [
    "df = pd.DataFrame(data, columns=[\"Title\", \"Price\", \"Image\"])"
   ]
  },
  {
   "cell_type": "code",
   "execution_count": null,
   "id": "045c7579",
   "metadata": {},
   "outputs": [],
   "source": [
    "df.head()"
   ]
  },
  {
   "cell_type": "code",
   "execution_count": null,
   "id": "feff2c48",
   "metadata": {},
   "outputs": [],
   "source": []
  },
  {
   "cell_type": "code",
   "execution_count": null,
   "id": "103a14c4",
   "metadata": {},
   "outputs": [],
   "source": []
  }
 ],
 "metadata": {
  "kernelspec": {
   "display_name": "Python 3 (ipykernel)",
   "language": "python",
   "name": "python3"
  },
  "language_info": {
   "codemirror_mode": {
    "name": "ipython",
    "version": 3
   },
   "file_extension": ".py",
   "mimetype": "text/x-python",
   "name": "python",
   "nbconvert_exporter": "python",
   "pygments_lexer": "ipython3",
   "version": "3.10.9"
  }
 },
 "nbformat": 4,
 "nbformat_minor": 5
}
