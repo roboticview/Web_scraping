{
 "cells": [
  {
   "cell_type": "code",
   "execution_count": 7,
   "id": "8d73ea39",
   "metadata": {},
   "outputs": [],
   "source": [
    "from selenium.webdriver import Chrome\n",
    "from selenium.webdriver.common.by import By\n",
    "import chromedriver_binary"
   ]
  },
  {
   "cell_type": "code",
   "execution_count": 12,
   "id": "f4b296d5",
   "metadata": {},
   "outputs": [
    {
     "name": "stdout",
     "output_type": "stream",
     "text": [
      "JBL Tune 510BT: Wireless On-Ear Headphones with Purebass Sound - Black 29.95 About this item\n",
      "The Tune 510BT wireless headphones feature renowned JBL Pure Bass sound, which can be found in the most famous venues all around the world.\n",
      "With Wireless Bluetooth 5.0 Streaming, you can stream wirelessly from your device and even switch between two devices so that you don't miss a call. Dynamic frequency response range (Hz) 20 Hz – 20 kHz\n",
      "For long-lasting fun, listen wirelessly for up to 40 hours and recharge the battery in as little as 2 hours with the convenient Type-C USB cable. A quick 5-minute recharge gives you 2 additional hours of music.\n",
      "Easily control your sound and manage your calls from your headphones with the convenient buttons on the ear-cup..Note:If you face issue in Bluetooth connectivity please turn off the Bluetooth function for a couple of minutes, then turn it back on\n",
      "Siri or Hey Google is just a button away: activate the voice assistant of your device by pushing the multi-function button.\n",
      "Featuring an adjustable headband the Tune 510BT are designed to fit nearly any head size comfortably\n"
     ]
    }
   ],
   "source": [
    "driver = Chrome()\n",
    "driver.get(\"https://www.amazon.com/dp/B08WM3LMJF\")\n",
    "title = driver.find_element(By.ID, \"productTitle\").text\n",
    "price_dollars = driver.find_element(By.CLASS_NAME, \"a-price-whole\").text\n",
    "price_cents   = driver.find_element(By.CLASS_NAME, \"a-price-fraction\").text\n",
    "\n",
    "price = float(f\"{price_dollars}.{price_cents}\")\n",
    "item_list = driver.find_element(By.ID, \"feature-bullets\").text\n",
    "\n",
    "print(title,price,item_list)"
   ]
  },
  {
   "cell_type": "code",
   "execution_count": null,
   "id": "757981f6",
   "metadata": {},
   "outputs": [],
   "source": []
  }
 ],
 "metadata": {
  "kernelspec": {
   "display_name": "Python 3 (ipykernel)",
   "language": "python",
   "name": "python3"
  },
  "language_info": {
   "codemirror_mode": {
    "name": "ipython",
    "version": 3
   },
   "file_extension": ".py",
   "mimetype": "text/x-python",
   "name": "python",
   "nbconvert_exporter": "python",
   "pygments_lexer": "ipython3",
   "version": "3.10.9"
  }
 },
 "nbformat": 4,
 "nbformat_minor": 5
}
