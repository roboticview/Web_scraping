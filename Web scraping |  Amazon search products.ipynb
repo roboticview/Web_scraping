{
 "cells": [
  {
   "cell_type": "code",
   "execution_count": 13,
   "id": "a021c013",
   "metadata": {},
   "outputs": [],
   "source": [
    "from selenium.webdriver import Chrome\n",
    "from selenium.webdriver.common.by import By\n",
    "import chromedriver_binary\n",
    "import pandas as pd\n",
    "import time"
   ]
  },
  {
   "cell_type": "code",
   "execution_count": 14,
   "id": "5fbad97d",
   "metadata": {},
   "outputs": [
    {
     "data": {
      "text/html": [
       "<div>\n",
       "<style scoped>\n",
       "    .dataframe tbody tr th:only-of-type {\n",
       "        vertical-align: middle;\n",
       "    }\n",
       "\n",
       "    .dataframe tbody tr th {\n",
       "        vertical-align: top;\n",
       "    }\n",
       "\n",
       "    .dataframe thead th {\n",
       "        text-align: right;\n",
       "    }\n",
       "</style>\n",
       "<table border=\"1\" class=\"dataframe\">\n",
       "  <thead>\n",
       "    <tr style=\"text-align: right;\">\n",
       "      <th></th>\n",
       "      <th>Title</th>\n",
       "      <th>Price</th>\n",
       "    </tr>\n",
       "  </thead>\n",
       "  <tbody>\n",
       "    <tr>\n",
       "      <th>0</th>\n",
       "      <td>All-new Echo Buds (2023 Release) | True Wirele...</td>\n",
       "      <td>49.99</td>\n",
       "    </tr>\n",
       "    <tr>\n",
       "      <th>1</th>\n",
       "      <td>Bose Noise Cancelling Headphones 700,Bluetooth...</td>\n",
       "      <td>379.00</td>\n",
       "    </tr>\n",
       "    <tr>\n",
       "      <th>2</th>\n",
       "      <td>JBL Tune 510BT: Wireless On-Ear Headphones wit...</td>\n",
       "      <td>29.95</td>\n",
       "    </tr>\n",
       "    <tr>\n",
       "      <th>3</th>\n",
       "      <td>Sony ZX Series Wired On-Ear Headphones, Black ...</td>\n",
       "      <td>12.99</td>\n",
       "    </tr>\n",
       "    <tr>\n",
       "      <th>4</th>\n",
       "      <td>Apple EarPods Headphones with Lightning Connec...</td>\n",
       "      <td>16.99</td>\n",
       "    </tr>\n",
       "  </tbody>\n",
       "</table>\n",
       "</div>"
      ],
      "text/plain": [
       "                                               Title   Price\n",
       "0  All-new Echo Buds (2023 Release) | True Wirele...   49.99\n",
       "1  Bose Noise Cancelling Headphones 700,Bluetooth...  379.00\n",
       "2  JBL Tune 510BT: Wireless On-Ear Headphones wit...   29.95\n",
       "3  Sony ZX Series Wired On-Ear Headphones, Black ...   12.99\n",
       "4  Apple EarPods Headphones with Lightning Connec...   16.99"
      ]
     },
     "execution_count": 14,
     "metadata": {},
     "output_type": "execute_result"
    }
   ],
   "source": [
    "driver = Chrome()\n",
    "driver.get(\"https://www.amazon.com/\")\n",
    "searchbox = driver.find_element(By.ID, \"twotabsearchtextbox\")\n",
    "searchbox.send_keys(\"headphones\")\n",
    "driver.find_element(By.ID, \"nav-search-submit-button\").click()\n",
    "time.sleep(3)\n",
    "cards = driver.find_elements(By.CLASS_NAME, \"s-card-container\")\n",
    "\n",
    "data = []\n",
    "\n",
    "for card in cards:\n",
    "    try:\n",
    "        title = card.find_element(By.TAG_NAME, \"h2\").text\n",
    "        price_whole = card.find_element(By.CLASS_NAME, \"a-price-whole\").text\n",
    "        price_fraction = card.find_element(By.CLASS_NAME, \"a-price-fraction\").text\n",
    "        price = f\"{price_whole}.{price_fraction}\"\n",
    "    except:\n",
    "        pass\n",
    "    data.append((title, price))\n",
    "\n",
    "df = pd.DataFrame(data, columns=[\"Title\",\"Price\"])\n",
    "df.head()"
   ]
  },
  {
   "cell_type": "code",
   "execution_count": null,
   "id": "fa1ab04b",
   "metadata": {},
   "outputs": [],
   "source": []
  }
 ],
 "metadata": {
  "kernelspec": {
   "display_name": "Python 3 (ipykernel)",
   "language": "python",
   "name": "python3"
  },
  "language_info": {
   "codemirror_mode": {
    "name": "ipython",
    "version": 3
   },
   "file_extension": ".py",
   "mimetype": "text/x-python",
   "name": "python",
   "nbconvert_exporter": "python",
   "pygments_lexer": "ipython3",
   "version": "3.10.9"
  }
 },
 "nbformat": 4,
 "nbformat_minor": 5
}
